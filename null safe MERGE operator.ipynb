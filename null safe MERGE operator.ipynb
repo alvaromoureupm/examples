{
 "cells": [
  {
   "cell_type": "code",
   "execution_count": 0,
   "metadata": {
    "application/vnd.databricks.v1+cell": {
     "cellMetadata": {
      "byteLimit": 2048000,
      "rowLimit": 10000
     },
     "inputWidgets": {},
     "nuid": "484d67ef-729f-4863-922f-3b5ba69b35fa",
     "showTitle": false,
     "tableResultSettingsMap": {},
     "title": ""
    }
   },
   "outputs": [
    {
     "output_type": "stream",
     "name": "stdout",
     "output_type": "stream",
     "text": [
      "After merge with '=' (nulls not matched):\n"
     ]
    },
    {
     "output_type": "display_data",
     "data": {
      "text/html": [
       "<style scoped>\n",
       "  .table-result-container {\n",
       "    max-height: 300px;\n",
       "    overflow: auto;\n",
       "  }\n",
       "  table, th, td {\n",
       "    border: 1px solid black;\n",
       "    border-collapse: collapse;\n",
       "  }\n",
       "  th, td {\n",
       "    padding: 5px;\n",
       "  }\n",
       "  th {\n",
       "    text-align: left;\n",
       "  }\n",
       "</style><div class='table-result-container'><table class='table-result'><thead style='background-color: white'><tr><th>id</th><th>name</th><th>value</th></tr></thead><tbody><tr><td>1</td><td>A</td><td>null</td></tr><tr><td>2</td><td>B</td><td>foo</td></tr><tr><td>3</td><td>C</td><td>bar</td></tr><tr><td>4</td><td>D</td><td>baz</td></tr><tr><td>1</td><td>A</td><td>null</td></tr></tbody></table></div>"
      ]
     },
     "metadata": {
      "application/vnd.databricks.v1+output": {
       "addedWidgets": {},
       "aggData": [],
       "aggError": "",
       "aggOverflow": false,
       "aggSchema": [],
       "aggSeriesLimitReached": false,
       "aggType": "",
       "arguments": {},
       "columnCustomDisplayInfos": {},
       "data": [
        [
         1,
         "A",
         null
        ],
        [
         2,
         "B",
         "foo"
        ],
        [
         3,
         "C",
         "bar"
        ],
        [
         4,
         "D",
         "baz"
        ],
        [
         1,
         "A",
         null
        ]
       ],
       "datasetInfos": [],
       "dbfsResultPath": null,
       "isJsonSchema": true,
       "metadata": {},
       "overflow": false,
       "plotOptions": {
        "customPlotOptions": {},
        "displayType": "table",
        "pivotAggregation": null,
        "pivotColumns": null,
        "xColumns": null,
        "yColumns": null
       },
       "removedWidgets": [],
       "schema": [
        {
         "metadata": "{}",
         "name": "id",
         "type": "\"long\""
        },
        {
         "metadata": "{}",
         "name": "name",
         "type": "\"string\""
        },
        {
         "metadata": "{}",
         "name": "value",
         "type": "\"string\""
        }
       ],
       "type": "table"
      }
     },
     "output_type": "display_data"
    },
    {
     "output_type": "stream",
     "name": "stdout",
     "output_type": "stream",
     "text": [
      "After merge with '<=>' (null-safe equality):\n"
     ]
    },
    {
     "output_type": "display_data",
     "data": {
      "text/html": [
       "<style scoped>\n",
       "  .table-result-container {\n",
       "    max-height: 300px;\n",
       "    overflow: auto;\n",
       "  }\n",
       "  table, th, td {\n",
       "    border: 1px solid black;\n",
       "    border-collapse: collapse;\n",
       "  }\n",
       "  th, td {\n",
       "    padding: 5px;\n",
       "  }\n",
       "  th {\n",
       "    text-align: left;\n",
       "  }\n",
       "</style><div class='table-result-container'><table class='table-result'><thead style='background-color: white'><tr><th>id</th><th>name</th><th>value</th></tr></thead><tbody><tr><td>1</td><td>A</td><td>null</td></tr><tr><td>2</td><td>B</td><td>foo</td></tr><tr><td>3</td><td>C</td><td>bar</td></tr><tr><td>4</td><td>D</td><td>baz</td></tr></tbody></table></div>"
      ]
     },
     "metadata": {
      "application/vnd.databricks.v1+output": {
       "addedWidgets": {},
       "aggData": [],
       "aggError": "",
       "aggOverflow": false,
       "aggSchema": [],
       "aggSeriesLimitReached": false,
       "aggType": "",
       "arguments": {},
       "columnCustomDisplayInfos": {},
       "data": [
        [
         1,
         "A",
         null
        ],
        [
         2,
         "B",
         "foo"
        ],
        [
         3,
         "C",
         "bar"
        ],
        [
         4,
         "D",
         "baz"
        ]
       ],
       "datasetInfos": [],
       "dbfsResultPath": null,
       "isJsonSchema": true,
       "metadata": {},
       "overflow": false,
       "plotOptions": {
        "customPlotOptions": {},
        "displayType": "table",
        "pivotAggregation": null,
        "pivotColumns": null,
        "xColumns": null,
        "yColumns": null
       },
       "removedWidgets": [],
       "schema": [
        {
         "metadata": "{}",
         "name": "id",
         "type": "\"long\""
        },
        {
         "metadata": "{}",
         "name": "name",
         "type": "\"string\""
        },
        {
         "metadata": "{}",
         "name": "value",
         "type": "\"string\""
        }
       ],
       "type": "table"
      }
     },
     "output_type": "display_data"
    }
   ],
   "source": [
    "from pyspark.sql.functions import lit\n",
    "from delta.tables import DeltaTable\n",
    "\n",
    "# Step 1: Create DataFrame 1 with a null column\n",
    "df1 = spark.createDataFrame([\n",
    "    (1, \"A\", None),\n",
    "    (2, \"B\", \"foo\"),\n",
    "    (3, \"C\", \"bar\")\n",
    "], [\"id\", \"name\", \"value\"])\n",
    "\n",
    "# Step 2: Write DataFrame 1 as a Delta table\n",
    "table_name = \"merge_null_demo\"\n",
    "df1.write.format(\"delta\").mode(\"overwrite\").saveAsTable(table_name)\n",
    "\n",
    "# Step 3: Create DataFrame 2 for merge (potential duplicate)\n",
    "df2 = spark.createDataFrame([\n",
    "    (1, \"A\", None),   # duplicate of row 1\n",
    "    (4, \"D\", \"baz\")   # new row\n",
    "], [\"id\", \"name\", \"value\"])\n",
    "\n",
    "# Register DeltaTable\n",
    "delta_table = DeltaTable.forName(spark, table_name)\n",
    "\n",
    "# Case 1: Merge using '=' (will not match nulls)\n",
    "delta_table.alias(\"t\").merge(\n",
    "    df2.alias(\"s\"),\n",
    "    \"t.id = s.id AND t.value = s.value\"\n",
    ").whenNotMatchedInsertAll().execute()\n",
    "\n",
    "print(\"After merge with '=' (nulls not matched):\")\n",
    "display(spark.table(table_name))\n",
    "\n",
    "# Reset table for next case\n",
    "df1.write.format(\"delta\").mode(\"overwrite\").saveAsTable(table_name)\n",
    "delta_table = DeltaTable.forName(spark, table_name)\n",
    "\n",
    "# Case 2: Merge using '<=>' (null-safe equality)\n",
    "delta_table.alias(\"t\").merge(\n",
    "    df2.alias(\"s\"),\n",
    "    \"t.id = s.id AND t.value <=> s.value\"\n",
    ").whenNotMatchedInsertAll().execute()\n",
    "\n",
    "print(\"After merge with '<=>' (null-safe equality):\")\n",
    "display(spark.table(table_name))"
   ]
  },
  {
   "cell_type": "code",
   "execution_count": 0,
   "metadata": {
    "application/vnd.databricks.v1+cell": {
     "cellMetadata": {},
     "inputWidgets": {},
     "nuid": "0f49fb24-5858-4da8-bc09-76a750fd15fc",
     "showTitle": false,
     "tableResultSettingsMap": {},
     "title": ""
    }
   },
   "outputs": [],
   "source": []
  }
 ],
 "metadata": {
  "application/vnd.databricks.v1+notebook": {
   "computePreferences": null,
   "dashboards": [],
   "environmentMetadata": {
    "base_environment": "",
    "environment_version": "2"
   },
   "inputWidgetPreferences": null,
   "language": "python",
   "notebookMetadata": {
    "pythonIndentUnit": 4
   },
   "notebookName": "null safe MERGE operator",
   "widgets": {}
  },
  "language_info": {
   "name": "python"
  }
 },
 "nbformat": 4,
 "nbformat_minor": 0
}